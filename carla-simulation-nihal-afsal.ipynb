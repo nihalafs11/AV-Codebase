{
  "cells": [
    {
      "cell_type": "markdown",
      "id": "aee34e2a",
      "metadata": {
        "id": "aee34e2a"
      },
      "source": [
        "# 1.) Launch and Connect to the Simulation\n",
        "Import useful python packages"
      ]
    },
    {
      "cell_type": "code",
      "execution_count": null,
      "id": "2361812c",
      "metadata": {
        "id": "2361812c"
      },
      "outputs": [],
      "source": [
        "import carla\n",
        "import random\n",
        "from carla import WeatherParameters"
      ]
    },
    {
      "cell_type": "markdown",
      "id": "b2f0faff",
      "metadata": {
        "id": "b2f0faff"
      },
      "source": [
        "Connect to the client"
      ]
    },
    {
      "cell_type": "code",
      "execution_count": null,
      "id": "f76985e4",
      "metadata": {
        "id": "f76985e4"
      },
      "outputs": [],
      "source": [
        "# Start localhost world\n",
        "client = carla.Client('localhost', 2000)"
      ]
    },
    {
      "cell_type": "markdown",
      "id": "c144bd6f",
      "metadata": {
        "id": "c144bd6f"
      },
      "source": [
        "# 2.) Define the Driving Environment\n",
        "First we need to choose a town to drive in. In this sitation I wanted my world to be unique so I used Town 1"
      ]
    },
    {
      "cell_type": "code",
      "execution_count": null,
      "id": "d7bf04c7",
      "metadata": {
        "id": "d7bf04c7"
      },
      "outputs": [],
      "source": [
        "# Load world\n",
        "world = client.load_world('Town01')\n",
        "\n",
        "# Load Vehicle\n",
        "vehicle_blueprints = world.get_blueprint_library().filter('*vehicle*')\n",
        "# Get Spawn Points\n",
        "spawn_points = world.get_map().get_spawn_points()\n",
        "\n",
        "# Get pedestrian blueprints\n",
        "pedestrian_blueprints = world.get_blueprint_library().filter('walker.pedestrian.*')\n",
        "\n",
        "# Define a function to spawn a pedestrian\n",
        "def spawn_pedestrian(world, pedestrian_blueprints, spawn_point):\n",
        "    pedestrian_bp = random.choice(pedestrian_blueprints)\n",
        "    pedestrian = world.try_spawn_actor(pedestrian_bp, spawn_point)\n",
        "    return pedestrian\n",
        "\n",
        "# Spawn pedestrians\n",
        "num_pedestrians = 50\n",
        "\n",
        "for _ in range(num_pedestrians):\n",
        "    spawn_point = random.choice(spawn_points)\n",
        "    pedestrian = spawn_pedestrian(world, pedestrian_blueprints, spawn_point)\n"
      ]
    },
    {
      "cell_type": "markdown",
      "id": "760c4723",
      "metadata": {
        "id": "760c4723"
      },
      "source": [
        "Spawn 50 vehicles randomly distributed throughout the map, for each spawn point, we choose a random vehicle from the blueprint library"
      ]
    },
    {
      "cell_type": "code",
      "execution_count": null,
      "id": "78a0c216",
      "metadata": {
        "id": "78a0c216"
      },
      "outputs": [],
      "source": [
        "for i in range(0,50):\n",
        "    world.try_spawn_actor(random.choice(vehicle_blueprints),\n",
        "random.choice(spawn_points))"
      ]
    },
    {
      "cell_type": "markdown",
      "id": "9a54ce98",
      "metadata": {
        "id": "9a54ce98"
      },
      "source": [
        "# 3.) Create and Instrument Our Vehicle\n",
        "Create Our First Ego Vehicle"
      ]
    },
    {
      "cell_type": "code",
      "execution_count": null,
      "id": "9e79417d",
      "metadata": {
        "id": "9e79417d"
      },
      "outputs": [],
      "source": [
        "ego_vehicle = world.spawn_actor(random.choice(vehicle_blueprints),\n",
        "random.choice(spawn_points))"
      ]
    },
    {
      "cell_type": "markdown",
      "id": "7a646e6d",
      "metadata": {
        "id": "7a646e6d"
      },
      "source": [
        "Move the spectatore view to look at the right of our ego vehicle."
      ]
    },
    {
      "cell_type": "code",
      "execution_count": null,
      "id": "b5668a0b",
      "metadata": {
        "id": "b5668a0b"
      },
      "outputs": [],
      "source": [
        "spectator = world.get_spectator()\n",
        "transform = ego_vehicle.get_transform()\n",
        "spectator.set_transform(carla.Transform(transform.location +\n",
        "carla.Location(z=50),\n",
        "carla.Rotation(pitch=-90)))"
      ]
    },
    {
      "cell_type": "markdown",
      "id": "3fc1c45a",
      "metadata": {
        "id": "3fc1c45a"
      },
      "source": [
        "Create a transform to place the camera on top of the vehicle"
      ]
    },
    {
      "cell_type": "code",
      "execution_count": null,
      "id": "c92ccd91",
      "metadata": {
        "id": "c92ccd91"
      },
      "outputs": [],
      "source": [
        "camera_init_trans = carla.Transform(carla.Location(z=1.5))"
      ]
    },
    {
      "cell_type": "markdown",
      "id": "a6219090",
      "metadata": {
        "id": "a6219090"
      },
      "source": [
        "We create the camera through a blueprint that defines its properties"
      ]
    },
    {
      "cell_type": "code",
      "execution_count": null,
      "id": "23b46adb",
      "metadata": {
        "id": "23b46adb"
      },
      "outputs": [],
      "source": [
        "camera_bp = world.get_blueprint_library().find('sensor.camera.rgb')"
      ]
    },
    {
      "cell_type": "markdown",
      "id": "7ac0c947",
      "metadata": {
        "id": "7ac0c947"
      },
      "source": [
        "We spawn the camera and attach it to our ego vehicle"
      ]
    },
    {
      "cell_type": "code",
      "execution_count": null,
      "id": "bc1f13c2",
      "metadata": {
        "id": "bc1f13c2"
      },
      "outputs": [],
      "source": [
        "camera = world.spawn_actor(camera_bp, camera_init_trans, attach_to=ego_vehicle)"
      ]
    },
    {
      "cell_type": "markdown",
      "id": "27bcf229",
      "metadata": {
        "id": "27bcf229"
      },
      "source": [
        "Create a transform to place a GPS on top of the vehicle"
      ]
    },
    {
      "cell_type": "code",
      "execution_count": null,
      "id": "7474e276",
      "metadata": {
        "id": "7474e276"
      },
      "outputs": [],
      "source": [
        "# Create a GPS sensor blueprint\n",
        "gps_bp = world.get_blueprint_library().find('sensor.other.gnss')\n",
        "\n",
        "# Set GPS sensor attributes, if needed (e.g. noise, frequency)\n",
        "# gps_bp.set_attribute('noise_stddev', '1')\n",
        "\n",
        "# Create a transform to place the GPS sensor on top of the vehicle\n",
        "gps_init_trans = carla.Transform(carla.Location(z=1.5))\n",
        "\n",
        "# Spawn the GPS sensor and attach it to the vehicle\n",
        "gps_sensor = world.spawn_actor(gps_bp, gps_init_trans, attach_to=ego_vehicle)\n"
      ]
    },
    {
      "cell_type": "markdown",
      "id": "bd39b236",
      "metadata": {
        "id": "bd39b236"
      },
      "source": [
        "Create a transform to place a Lidar on top of the vehicle"
      ]
    },
    {
      "cell_type": "code",
      "execution_count": null,
      "id": "3c1f6af8",
      "metadata": {
        "id": "3c1f6af8"
      },
      "outputs": [],
      "source": [
        "# Create a LiDAR sensor blueprint\n",
        "lidar_bp = world.get_blueprint_library().find('sensor.lidar.ray_cast')\n",
        "\n",
        "# Set LiDAR sensor attributes (e.g. channels, range, points_per_second, etc.)\n",
        "lidar_bp.set_attribute('channels', '32')\n",
        "lidar_bp.set_attribute('range', '100')\n",
        "lidar_bp.set_attribute('points_per_second', '100000')\n",
        "\n",
        "# Create a transform to place the LiDAR sensor on top of the vehicle\n",
        "lidar_init_trans = carla.Transform(carla.Location(z=1.5))\n",
        "\n",
        "# Spawn the LiDAR sensor and attach it to the vehicle\n",
        "lidar_sensor = world.spawn_actor(lidar_bp, lidar_init_trans, attach_to=ego_vehicle)\n",
        "\n"
      ]
    },
    {
      "cell_type": "markdown",
      "id": "1e385e43",
      "metadata": {
        "id": "1e385e43"
      },
      "source": [
        "# 4.) Run the Simulation and Record Data\n",
        "\n",
        "Set all the vehicles in motion and right away start recording camera, gps, and lidar data with PyGameCallback. This saves images into the \"out\" folder until the simulation has stopped"
      ]
    },
    {
      "cell_type": "code",
      "execution_count": null,
      "id": "4db28269",
      "metadata": {
        "id": "4db28269"
      },
      "outputs": [],
      "source": [
        "for vehicle in world.get_actors().filter('*vehicle*'):\n",
        "    vehicle.set_autopilot(True)\n",
        "# Start camera with PyGame callback\n",
        "camera.listen(lambda image: image.save_to_disk('nihal/out/%06d.png' % image.frame))\n",
        "\n",
        "# Define a callback to process the GPS data\n",
        "def process_gps_data(gnss_data):\n",
        "    with open(\"nihal/out/gps_data.txt\", \"a\") as f:\n",
        "        f.write(\"GNSS data: Lat={}, Lon={}, Alt={}\\n\".format(gnss_data.latitude, gnss_data.longitude, gnss_data.altitude))\n",
        "\n",
        "# Listen for GPS data\n",
        "gps_sensor.listen(process_gps_data)\n",
        "\n",
        "# Define a callback to process the LiDAR data\n",
        "def process_lidar_data(lidar_data):\n",
        "    lidar_data.save_to_disk('nihal/out/Lidar/%06d.ply' % lidar_data.frame)\n",
        "\n",
        "# Listen for LiDAR data\n",
        "lidar_sensor.listen(process_lidar_data)"
      ]
    },
    {
      "cell_type": "code",
      "execution_count": null,
      "id": "ab7675ce",
      "metadata": {
        "id": "ab7675ce"
      },
      "outputs": [],
      "source": []
    }
  ],
  "metadata": {
    "kernelspec": {
      "display_name": "Python 3 (ipykernel)",
      "language": "python",
      "name": "python3"
    },
    "language_info": {
      "codemirror_mode": {
        "name": "ipython",
        "version": 3
      },
      "file_extension": ".py",
      "mimetype": "text/x-python",
      "name": "python",
      "nbconvert_exporter": "python",
      "pygments_lexer": "ipython3",
      "version": "3.8.10"
    },
    "colab": {
      "provenance": []
    }
  },
  "nbformat": 4,
  "nbformat_minor": 5
}